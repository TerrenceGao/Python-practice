{
 "cells": [
  {
   "cell_type": "markdown",
   "metadata": {},
   "source": [
    "# My First Python Project: Mastermind Game\n",
    "## Introduction to the Mastermind Game\n",
    "\n",
    "This is a two person game. One person creates a hidden colour combination or code - consisting of 4 colour pegs chosen from 6 colours. The colours may be repeated. For example, the code might be Blue, Red, Red, Yellow. Your program will play the role of the first person and create a hidden code.\n",
    "\n",
    "The other player (the user) is the code-breaker and tries to figure out the code. He or she does this by guessing the code. The first player (ie, my program) gives feedback on the correctness of the guess by telling the second player how many correctly positioned colour pegs the guess has and how many correct colour but incorrectly positioned pegs the guess has. This feedback is in the form of a white peg for a correct colour but incorrect position and black peg for a correctly positioned colour. See the [online game](http://www.archimedes-lab.org/mastermind.html). The game usually goes for a maximum of 10 tries before the guesser either wins or looses.\n",
    "\n",
    "Master Game： \n",
    "![Maseter Game](https://www.python-course.eu/images/ColorCode.png \"美丽花儿\")\n",
    "\n",
    "In our version of the game, we will use 6 colours, code length 4 and maximum of 10 guesses. These are set as constants. Constants (fixed values) are variables whose values do not change once assigned. A different naming convention (uppercase pothole) is used for constants so that programmers know to not change their values. The constants VALID_CHARS, SIZE and TRIES in the starter file [game.py](http://www.utsc.utoronto.ca/~bretscher/a20/assignments/A1/game.py) have been set.\n"
   ]
  },
  {
   "cell_type": "markdown",
   "metadata": {},
   "source": [
    "## Master Game Functions\n",
    "In this part I firstly write the functions that do most of the work in the game of Mastermind. I will write these functions in a file called mastermind.py.The name of each function and a short description of them will be listed below."
   ]
  },
  {
   "cell_type": "markdown",
   "metadata": {},
   "source": [
    "### create_code(str, int)\n",
    "**Description**: Given a str and a size (an int) return a list of length size of single character strs comprised of the characters in the given str. Use the module random and the method choice. For example, given the string 'YGBOPR' and int 4, one possible list is ['G', 'B', 'R', 'B']."
   ]
  },
  {
   "cell_type": "code",
   "execution_count": 4,
   "metadata": {},
   "outputs": [
    {
     "name": "stdout",
     "output_type": "stream",
     "text": [
      "['h', 'o', 'h']\n"
     ]
    }
   ],
   "source": [
    "import random \n",
    "def create_code(str, int):\n",
    "        length = len(str);\n",
    "        Codestr = []\n",
    "        for i in range(int):\n",
    "            character=random.choice(str)\n",
    "            Codestr.append(character)\n",
    "        return Codestr\n",
    "#Example\n",
    "print(create_code('Python',3))"
   ]
  },
  {
   "cell_type": "markdown",
   "metadata": {
    "collapsed": true
   },
   "source": [
    "### valid(list, str, int)\n",
    "**Description**: Given a list of single character strs, a str and an int, return True if every character is in the given str and the list of length equal to the given int."
   ]
  },
  {
   "cell_type": "code",
   "execution_count": 52,
   "metadata": {
    "scrolled": true
   },
   "outputs": [
    {
     "name": "stdout",
     "output_type": "stream",
     "text": [
      "True\n",
      "False\n",
      "True\n"
     ]
    }
   ],
   "source": [
    "def valid(list,str,int):\n",
    "    for i in range(len(list)):\n",
    "        if list[i] in str and len(list)== int:\n",
    "            return True \n",
    "        else:  \n",
    "            return False\n",
    "            break\n",
    "#Example:\n",
    "#Return True\n",
    "print(valid(['P','y','t','h'],'Python',4))\n",
    "#Return False\n",
    "print(valid(['P','y','t'],'Python',4))\n",
    "print(valid(['P','y','t','g'],'Python',4))"
   ]
  },
  {
   "cell_type": "code",
   "execution_count": 77,
   "metadata": {},
   "outputs": [
    {
     "name": "stdout",
     "output_type": "stream",
     "text": [
      "True\n",
      "False\n",
      "False\n"
     ]
    }
   ],
   "source": [
    "def valid(list,str,int):\n",
    "    j=0\n",
    "    for i in range(len(list)):\n",
    "        if list[i] in str and len(list)== int:\n",
    "            j=j+1\n",
    "            if j==4:\n",
    "                return True\n",
    "        else:  \n",
    "            return False\n",
    "            break\n",
    "#Example:\n",
    "#Return True\n",
    "print(valid(['P','y','t','h'],'Python',4))\n",
    "#Return False\n",
    "print(valid(['P','y','t'],'Python',4))\n",
    "print(valid(['P','y','t','g'],'Python',4))"
   ]
  },
  {
   "cell_type": "markdown",
   "metadata": {},
   "source": [
    "### find_fully_correct(list, list)\n",
    "**Description**: Given the answer code (a list) and the guess (a list) return a list containing a 'b' for each correctly positioned colour in the guess. For example, if the answer code is ['P', 'G', 'R', 'O'] and the guess is ['Y', 'G', 'O', 'O'] then return ['b', 'b']."
   ]
  },
  {
   "cell_type": "code",
   "execution_count": 48,
   "metadata": {},
   "outputs": [
    {
     "data": {
      "text/plain": [
       "['b', 'b']"
      ]
     },
     "execution_count": 48,
     "metadata": {},
     "output_type": "execute_result"
    }
   ],
   "source": [
    "def find_fully_correct(answer_code, guess):\n",
    "    correct_result=[]\n",
    "    for i in range(len(answer_code)):\n",
    "        if guess[i] == answer_code[i]:\n",
    "            correct_result.append('b')\n",
    "    return correct_result\n",
    "#Example:\n",
    "list_1=['P', 'G', 'C', 'O']\n",
    "list_2=['Y', 'G', 'O', 'O']\n",
    "find_fully_correct(list_1,list_2)"
   ]
  },
  {
   "cell_type": "markdown",
   "metadata": {},
   "source": [
    "### remove_fully_correct(list, list)\n",
    "**Description**: Given two lists of single character strs return a new list that is the result of removing from the first list all chars that are the same and in the same position in the second list. Assume that both lists have the same length. For example, if the lists are ['A','B','C','D'] and ['D','B','A','D'] then ['A', 'C'] is returned."
   ]
  },
  {
   "cell_type": "code",
   "execution_count": 56,
   "metadata": {},
   "outputs": [
    {
     "name": "stdout",
     "output_type": "stream",
     "text": [
      "['A', 'C']\n"
     ]
    }
   ],
   "source": [
    "def remove_fully_correct(list_1, list_2):\n",
    "    returned_list=[]\n",
    "    for i in range(len(list_1)):\n",
    "        if list_1[i]!=list_2[i]:\n",
    "            returned_list.append(list_1[i])\n",
    "    return returned_list\n",
    "print(remove_fully_correct(['A','B','C','D'], ['D','B','A','D']))"
   ]
  },
  {
   "cell_type": "markdown",
   "metadata": {},
   "source": [
    "### find_colour_correct(list, list)\n",
    "**Description**: Given two lists of single character strs return a list of 'w's where the number of 'w's is equal to the number of str in the second list that have the same value as str in the first list but different position. Note that only one 'w' is returned for each str in the first list. For example if the two lists are ['Y','P','G','G'] and ['G','P','O','R'] return ['w']."
   ]
  },
  {
   "cell_type": "code",
   "execution_count": 58,
   "metadata": {},
   "outputs": [
    {
     "name": "stdout",
     "output_type": "stream",
     "text": [
      "['w']\n"
     ]
    }
   ],
   "source": [
    "def find_colour_correct(list_1, list_2):\n",
    "    returned_list = []\n",
    "    list_3 = remove_fully_correct(list_1, list_2)\n",
    "    list_4 = list(set(list_3))\n",
    "    list_5 = remove_fully_correct(list_2, list_1)\n",
    "    list_6 = list(set(list_5))\n",
    "    for i in range(len(list_4)):\n",
    "        for j in range(len(list_6)):\n",
    "           if list_4[i] == list_6[j]:\n",
    "               returned_list.append('w')\n",
    "    return returned_list\n",
    "print(find_colour_correct(['Y','P','G','G'],['G','P','O','R']))"
   ]
  },
  {
   "cell_type": "markdown",
   "metadata": {},
   "source": [
    "## display_game(list, list)\n",
    "**Description**: Given two lists of lists of single character strs return a string (that could be printed to the display the current state of the game. The string should begin with the headers Guess and Clues separated by a tab and ended with a new line. The next line should consist of 16 '*' characters followed by a new line. Next, each corresponding sublists of the given lists. Each character in the sublists should be separated by spaces. Each pair of sublists should be separated by a tab and on a separate line (see the sample output described in the game section for clarification). For example, if the two lists were [['Y', 'P', 'G', 'G'], ['O', 'O', 'G', 'G']] and [['b', 'b'], ['b','b', 'b', 'b']] then the function would return '''Guess\\tClues\\n****************\\nY P G G\\tb b\\nO O G G\\tb b b b\\n'''."
   ]
  },
  {
   "cell_type": "code",
   "execution_count": 61,
   "metadata": {},
   "outputs": [
    {
     "name": "stdout",
     "output_type": "stream",
     "text": [
      "Guess\tClues\n",
      "****************\n",
      "Y P G G\tb b\n",
      "O O G G\tb b b b\n",
      "\n"
     ]
    }
   ],
   "source": [
    "def display_game(list_1,list_2):\n",
    "    returned_list=\"Guess\\tClues\\n****************\\n\"\n",
    "    for i in range(len(list_1)):\n",
    "        line = ' '.join(list_1[i]) + '\\t' + ' '.join(list_2[i]) + '\\n'\n",
    "        returned_list = returned_list + line\n",
    "    return print(returned_list)\n",
    "list_1=[['Y', 'P', 'G', 'G'], ['O', 'O', 'G', 'G']]\n",
    "list_2=[['b', 'b'], ['b','b', 'b', 'b']]\n",
    "display_game(list_1,list_2)"
   ]
  },
  {
   "cell_type": "markdown",
   "metadata": {},
   "source": [
    "## The Game\n",
    "In this section I will write a main program that calls my functions to create the game. "
   ]
  },
  {
   "cell_type": "code",
   "execution_count": 1,
   "metadata": {},
   "outputs": [
    {
     "name": "stdout",
     "output_type": "stream",
     "text": [
      "['G', 'P', 'Y', 'O']\n",
      "Please enter your guess of length 4 using the letters GRBYOP:GRBY\n",
      "Guess\tClues\n",
      "****************\n",
      "G R B Y\tb w\n",
      "\n",
      "Please enter your guess of length 4 using the letters GRBYOP:GRBO\n",
      "Guess\tClues\n",
      "****************\n",
      "G R B Y\tb w\n",
      "G R B O\tb b\n",
      "\n",
      "Please enter your guess of length 4 using the letters GRBYOP:RBYO\n",
      "Guess\tClues\n",
      "****************\n",
      "G R B Y\tb w\n",
      "G R B O\tb b\n",
      "R B Y O\tb b\n",
      "\n",
      "Please enter your guess of length 4 using the letters GRBYOP:GBYO\n",
      "Guess\tClues\n",
      "****************\n",
      "G R B Y\tb w\n",
      "G R B O\tb b\n",
      "R B Y O\tb b\n",
      "G B Y O\tb b b\n",
      "\n",
      "Please enter your guess of length 4 using the letters GRBYOP:GPYO\n",
      "Guess\tClues\n",
      "****************\n",
      "G R B Y\tb w\n",
      "G R B O\tb b\n",
      "R B Y O\tb b\n",
      "G B Y O\tb b b\n",
      "G P Y O\tb b b b\n",
      "\n",
      "Congratulations! It took you 5 guesses to find the code.\n"
     ]
    }
   ],
   "source": [
    "from mastermind import *\n",
    "\n",
    "if __name__ == '__main__':\n",
    "    # the number of pegs in the answer\n",
    "    SIZE = 4\n",
    "    # the number of guesses the user gets\n",
    "    TRIES = 10\n",
    "    # the letters allowed representing the colours\n",
    "    # green, red, blue, yellow, orange, purple\n",
    "    VALID_CHARS = 'GRBYOP'\n",
    "\n",
    "    # fill in the rest...\n",
    "    #Create the secret colour code.\n",
    "    answer=create_code(VALID_CHARS, SIZE)\n",
    "    print(answer)\n",
    "    guesslist = []\n",
    "    cluelist = []\n",
    "    count=0\n",
    "    #Get the user's first guess\n",
    "    for n in range(TRIES):\n",
    "        count = count + 1\n",
    "        guesslist.append(list(input(\"Please enter your guess of length 4 using the letters GRBYOP:\")))\n",
    "    #Check that the guess is valid\n",
    "        if(valid(guesslist[n], VALID_CHARS, SIZE)==False):\n",
    "            guesslist[n]=input(\"Please enter your guess again of length 4 using the letters GRBYOP:\")\n",
    "            guesslist[n]=list(guesslist[n])\n",
    "    #Determine the appropriate clue for the guess\n",
    "        bClues=find_fully_correct(answer, guesslist[n])\n",
    "        wClues=find_colour_correct(answer, guesslist[n])\n",
    "        cluelist.append(bClues+wClues)\n",
    "    #Display the current state of the game including all guesses and clues.\n",
    "        display_game(guesslist, cluelist)\n",
    "        if(cluelist[n]==['b','b','b','b']):\n",
    "            print(\"Congratulations! It took you\",count,\"guesses to find the code.\")\n",
    "            break\n",
    "        elif(n==TRIES-1):\n",
    "            print(\"I'm sorry you lose. The correct code was \",answer,'.')"
   ]
  },
  {
   "cell_type": "markdown",
   "metadata": {
    "collapsed": true
   },
   "source": [
    "## Conclusion\n",
    "As my first python project, it contains some basic data types and fuctions. I write each of fuctions and test them in different ways. In this process I also find many problems, including not sucessfully combine *for* and *if* function and have some redundant code.\n",
    "I will keep improving my programming skills and try to write beautiful and concise code!\n",
    "\n",
    "## Acknowledgments\n",
    "I must express my thanks to my borther Pengsen Li, he gives me great help in my project! Without him I might have to spend much more time on it.  \n",
    "Also thanks for Jiayi Chen, who helps me in one crucial function and Vicky Su, who inspires me and tells me how to write the blog."
   ]
  }
 ],
 "metadata": {
  "kernelspec": {
   "display_name": "Python 3",
   "language": "python",
   "name": "python3"
  },
  "language_info": {
   "codemirror_mode": {
    "name": "ipython",
    "version": 3
   },
   "file_extension": ".py",
   "mimetype": "text/x-python",
   "name": "python",
   "nbconvert_exporter": "python",
   "pygments_lexer": "ipython3",
   "version": "3.6.3"
  }
 },
 "nbformat": 4,
 "nbformat_minor": 2
}
